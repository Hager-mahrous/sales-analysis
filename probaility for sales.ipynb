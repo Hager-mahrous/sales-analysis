{
 "cells": [
  {
   "cell_type": "code",
   "execution_count": 2,
   "metadata": {},
   "outputs": [],
   "source": [
    "import pandas as pd\n",
    "import scipy.stats as ss\n",
    "import statsmodels.api as sp\n",
    "import numpy as np\n"
   ]
  },
  {
   "cell_type": "code",
   "execution_count": 3,
   "metadata": {},
   "outputs": [],
   "source": [
    "data = pd.read_csv('f:/sql interveiw/Superstore Dataset.csv')"
   ]
  },
  {
   "cell_type": "code",
   "execution_count": 4,
   "metadata": {},
   "outputs": [
    {
     "data": {
      "text/html": [
       "<div>\n",
       "<style scoped>\n",
       "    .dataframe tbody tr th:only-of-type {\n",
       "        vertical-align: middle;\n",
       "    }\n",
       "\n",
       "    .dataframe tbody tr th {\n",
       "        vertical-align: top;\n",
       "    }\n",
       "\n",
       "    .dataframe thead th {\n",
       "        text-align: right;\n",
       "    }\n",
       "</style>\n",
       "<table border=\"1\" class=\"dataframe\">\n",
       "  <thead>\n",
       "    <tr style=\"text-align: right;\">\n",
       "      <th></th>\n",
       "      <th>Order ID</th>\n",
       "      <th>Order Date</th>\n",
       "      <th>Ship Date</th>\n",
       "      <th>Ship Mode</th>\n",
       "      <th>Customer ID</th>\n",
       "      <th>Customer Name</th>\n",
       "      <th>Segment</th>\n",
       "      <th>Country</th>\n",
       "      <th>City</th>\n",
       "      <th>State</th>\n",
       "      <th>Postal Code</th>\n",
       "      <th>Region</th>\n",
       "      <th>Product ID</th>\n",
       "      <th>Category</th>\n",
       "      <th>Sub-Category</th>\n",
       "      <th>Product Name</th>\n",
       "      <th>Sales</th>\n",
       "      <th>Quantity</th>\n",
       "      <th>Discount</th>\n",
       "      <th>Profit</th>\n",
       "    </tr>\n",
       "  </thead>\n",
       "  <tbody>\n",
       "    <tr>\n",
       "      <th>0</th>\n",
       "      <td>CA-2019-103800</td>\n",
       "      <td>2019-01-03</td>\n",
       "      <td>2019-01-07</td>\n",
       "      <td>Standard Class</td>\n",
       "      <td>DP-13000</td>\n",
       "      <td>Darren Powers</td>\n",
       "      <td>Consumer</td>\n",
       "      <td>United States</td>\n",
       "      <td>Houston</td>\n",
       "      <td>Texas</td>\n",
       "      <td>77095</td>\n",
       "      <td>Central</td>\n",
       "      <td>OFF-PA-10000174</td>\n",
       "      <td>Office Supplies</td>\n",
       "      <td>Paper</td>\n",
       "      <td>Message Book, Wirebound, Four 5 1/2\" X 4\" Form...</td>\n",
       "      <td>16.448</td>\n",
       "      <td>2</td>\n",
       "      <td>0.2</td>\n",
       "      <td>5.5512</td>\n",
       "    </tr>\n",
       "    <tr>\n",
       "      <th>1</th>\n",
       "      <td>CA-2019-112326</td>\n",
       "      <td>2019-01-04</td>\n",
       "      <td>2019-01-08</td>\n",
       "      <td>Standard Class</td>\n",
       "      <td>PO-19195</td>\n",
       "      <td>Phillina Ober</td>\n",
       "      <td>Home Office</td>\n",
       "      <td>United States</td>\n",
       "      <td>Naperville</td>\n",
       "      <td>Illinois</td>\n",
       "      <td>60540</td>\n",
       "      <td>Central</td>\n",
       "      <td>OFF-LA-10003223</td>\n",
       "      <td>Office Supplies</td>\n",
       "      <td>Labels</td>\n",
       "      <td>Avery 508</td>\n",
       "      <td>11.784</td>\n",
       "      <td>3</td>\n",
       "      <td>0.2</td>\n",
       "      <td>4.2717</td>\n",
       "    </tr>\n",
       "    <tr>\n",
       "      <th>2</th>\n",
       "      <td>CA-2019-112326</td>\n",
       "      <td>2019-01-04</td>\n",
       "      <td>2019-01-08</td>\n",
       "      <td>Standard Class</td>\n",
       "      <td>PO-19195</td>\n",
       "      <td>Phillina Ober</td>\n",
       "      <td>Home Office</td>\n",
       "      <td>United States</td>\n",
       "      <td>Naperville</td>\n",
       "      <td>Illinois</td>\n",
       "      <td>60540</td>\n",
       "      <td>Central</td>\n",
       "      <td>OFF-ST-10002743</td>\n",
       "      <td>Office Supplies</td>\n",
       "      <td>Storage</td>\n",
       "      <td>SAFCO Boltless Steel Shelving</td>\n",
       "      <td>272.736</td>\n",
       "      <td>3</td>\n",
       "      <td>0.2</td>\n",
       "      <td>-64.7748</td>\n",
       "    </tr>\n",
       "    <tr>\n",
       "      <th>3</th>\n",
       "      <td>CA-2019-112326</td>\n",
       "      <td>2019-01-04</td>\n",
       "      <td>2019-01-08</td>\n",
       "      <td>Standard Class</td>\n",
       "      <td>PO-19195</td>\n",
       "      <td>Phillina Ober</td>\n",
       "      <td>Home Office</td>\n",
       "      <td>United States</td>\n",
       "      <td>Naperville</td>\n",
       "      <td>Illinois</td>\n",
       "      <td>60540</td>\n",
       "      <td>Central</td>\n",
       "      <td>OFF-BI-10004094</td>\n",
       "      <td>Office Supplies</td>\n",
       "      <td>Binders</td>\n",
       "      <td>GBC Standard Plastic Binding Systems Combs</td>\n",
       "      <td>3.540</td>\n",
       "      <td>2</td>\n",
       "      <td>0.8</td>\n",
       "      <td>-5.4870</td>\n",
       "    </tr>\n",
       "    <tr>\n",
       "      <th>4</th>\n",
       "      <td>CA-2019-141817</td>\n",
       "      <td>2019-01-05</td>\n",
       "      <td>2019-01-12</td>\n",
       "      <td>Standard Class</td>\n",
       "      <td>MB-18085</td>\n",
       "      <td>Mick Brown</td>\n",
       "      <td>Consumer</td>\n",
       "      <td>United States</td>\n",
       "      <td>Philadelphia</td>\n",
       "      <td>Pennsylvania</td>\n",
       "      <td>19143</td>\n",
       "      <td>East</td>\n",
       "      <td>OFF-AR-10003478</td>\n",
       "      <td>Office Supplies</td>\n",
       "      <td>Art</td>\n",
       "      <td>Avery Hi-Liter EverBold Pen Style Fluorescent ...</td>\n",
       "      <td>19.536</td>\n",
       "      <td>3</td>\n",
       "      <td>0.2</td>\n",
       "      <td>4.8840</td>\n",
       "    </tr>\n",
       "  </tbody>\n",
       "</table>\n",
       "</div>"
      ],
      "text/plain": [
       "         Order ID  Order Date   Ship Date       Ship Mode Customer ID  \\\n",
       "0  CA-2019-103800  2019-01-03  2019-01-07  Standard Class    DP-13000   \n",
       "1  CA-2019-112326  2019-01-04  2019-01-08  Standard Class    PO-19195   \n",
       "2  CA-2019-112326  2019-01-04  2019-01-08  Standard Class    PO-19195   \n",
       "3  CA-2019-112326  2019-01-04  2019-01-08  Standard Class    PO-19195   \n",
       "4  CA-2019-141817  2019-01-05  2019-01-12  Standard Class    MB-18085   \n",
       "\n",
       "   Customer Name      Segment        Country          City         State  \\\n",
       "0  Darren Powers     Consumer  United States       Houston         Texas   \n",
       "1  Phillina Ober  Home Office  United States    Naperville      Illinois   \n",
       "2  Phillina Ober  Home Office  United States    Naperville      Illinois   \n",
       "3  Phillina Ober  Home Office  United States    Naperville      Illinois   \n",
       "4     Mick Brown     Consumer  United States  Philadelphia  Pennsylvania   \n",
       "\n",
       "   Postal Code   Region       Product ID         Category Sub-Category  \\\n",
       "0        77095  Central  OFF-PA-10000174  Office Supplies        Paper   \n",
       "1        60540  Central  OFF-LA-10003223  Office Supplies       Labels   \n",
       "2        60540  Central  OFF-ST-10002743  Office Supplies      Storage   \n",
       "3        60540  Central  OFF-BI-10004094  Office Supplies      Binders   \n",
       "4        19143     East  OFF-AR-10003478  Office Supplies          Art   \n",
       "\n",
       "                                        Product Name    Sales  Quantity  \\\n",
       "0  Message Book, Wirebound, Four 5 1/2\" X 4\" Form...   16.448         2   \n",
       "1                                          Avery 508   11.784         3   \n",
       "2                      SAFCO Boltless Steel Shelving  272.736         3   \n",
       "3         GBC Standard Plastic Binding Systems Combs    3.540         2   \n",
       "4  Avery Hi-Liter EverBold Pen Style Fluorescent ...   19.536         3   \n",
       "\n",
       "   Discount   Profit  \n",
       "0       0.2   5.5512  \n",
       "1       0.2   4.2717  \n",
       "2       0.2 -64.7748  \n",
       "3       0.8  -5.4870  \n",
       "4       0.2   4.8840  "
      ]
     },
     "execution_count": 4,
     "metadata": {},
     "output_type": "execute_result"
    }
   ],
   "source": [
    "data.head()"
   ]
  },
  {
   "cell_type": "code",
   "execution_count": 5,
   "metadata": {},
   "outputs": [],
   "source": [
    "df = data.copy()"
   ]
  },
  {
   "cell_type": "code",
   "execution_count": 6,
   "metadata": {},
   "outputs": [
    {
     "data": {
      "text/plain": [
       "West       3203\n",
       "East       2848\n",
       "Central    2323\n",
       "South      1620\n",
       "Name: Region, dtype: int64"
      ]
     },
     "execution_count": 6,
     "metadata": {},
     "output_type": "execute_result"
    }
   ],
   "source": [
    "df.Region.value_counts()"
   ]
  },
  {
   "cell_type": "code",
   "execution_count": 7,
   "metadata": {},
   "outputs": [
    {
     "data": {
      "text/plain": [
       "United States    9994\n",
       "Name: Country, dtype: int64"
      ]
     },
     "execution_count": 7,
     "metadata": {},
     "output_type": "execute_result"
    }
   ],
   "source": [
    "df.Country.value_counts()"
   ]
  },
  {
   "cell_type": "code",
   "execution_count": 8,
   "metadata": {},
   "outputs": [
    {
     "data": {
      "text/plain": [
       "California              2001\n",
       "New York                1128\n",
       "Texas                    985\n",
       "Pennsylvania             587\n",
       "Washington               506\n",
       "Illinois                 492\n",
       "Ohio                     469\n",
       "Florida                  383\n",
       "Michigan                 255\n",
       "North Carolina           249\n",
       "Virginia                 224\n",
       "Arizona                  224\n",
       "Georgia                  184\n",
       "Tennessee                183\n",
       "Colorado                 182\n",
       "Indiana                  149\n",
       "Kentucky                 139\n",
       "Massachusetts            135\n",
       "New Jersey               130\n",
       "Oregon                   124\n",
       "Wisconsin                110\n",
       "Maryland                 105\n",
       "Delaware                  96\n",
       "Minnesota                 89\n",
       "Connecticut               82\n",
       "Oklahoma                  66\n",
       "Missouri                  66\n",
       "Alabama                   61\n",
       "Arkansas                  60\n",
       "Rhode Island              56\n",
       "Utah                      53\n",
       "Mississippi               53\n",
       "Louisiana                 42\n",
       "South Carolina            42\n",
       "Nevada                    39\n",
       "Nebraska                  38\n",
       "New Mexico                37\n",
       "Iowa                      30\n",
       "New Hampshire             27\n",
       "Kansas                    24\n",
       "Idaho                     21\n",
       "Montana                   15\n",
       "South Dakota              12\n",
       "Vermont                   11\n",
       "District of Columbia      10\n",
       "Maine                      8\n",
       "North Dakota               7\n",
       "West Virginia              4\n",
       "Wyoming                    1\n",
       "Name: State, dtype: int64"
      ]
     },
     "execution_count": 8,
     "metadata": {},
     "output_type": "execute_result"
    }
   ],
   "source": [
    "df.State.value_counts()"
   ]
  },
  {
   "cell_type": "code",
   "execution_count": 9,
   "metadata": {},
   "outputs": [
    {
     "data": {
      "text/plain": [
       "State      Ship Mode     \n",
       "Alabama    First Class       1634.8148\n",
       "           Same Day             7.2500\n",
       "           Second Class      2127.1661\n",
       "           Standard Class    2017.5944\n",
       "Arizona    First Class       -802.5980\n",
       "                               ...    \n",
       "Wisconsin  First Class       1323.7382\n",
       "           Same Day            58.0692\n",
       "           Second Class      1287.1943\n",
       "           Standard Class    5732.7987\n",
       "Wyoming    Standard Class     100.1960\n",
       "Name: Profit, Length: 176, dtype: float64"
      ]
     },
     "execution_count": 9,
     "metadata": {},
     "output_type": "execute_result"
    }
   ],
   "source": [
    "df.groupby(['State', 'Ship Mode'])['Profit'].sum()"
   ]
  },
  {
   "cell_type": "code",
   "execution_count": 10,
   "metadata": {},
   "outputs": [
    {
     "data": {
      "text/html": [
       "<div>\n",
       "<style scoped>\n",
       "    .dataframe tbody tr th:only-of-type {\n",
       "        vertical-align: middle;\n",
       "    }\n",
       "\n",
       "    .dataframe tbody tr th {\n",
       "        vertical-align: top;\n",
       "    }\n",
       "\n",
       "    .dataframe thead th {\n",
       "        text-align: right;\n",
       "    }\n",
       "</style>\n",
       "<table border=\"1\" class=\"dataframe\">\n",
       "  <thead>\n",
       "    <tr style=\"text-align: right;\">\n",
       "      <th>State</th>\n",
       "      <th>Alabama</th>\n",
       "      <th>Arizona</th>\n",
       "      <th>Arkansas</th>\n",
       "      <th>California</th>\n",
       "      <th>Colorado</th>\n",
       "      <th>Connecticut</th>\n",
       "      <th>Delaware</th>\n",
       "      <th>District of Columbia</th>\n",
       "      <th>Florida</th>\n",
       "      <th>Georgia</th>\n",
       "      <th>...</th>\n",
       "      <th>South Dakota</th>\n",
       "      <th>Tennessee</th>\n",
       "      <th>Texas</th>\n",
       "      <th>Utah</th>\n",
       "      <th>Vermont</th>\n",
       "      <th>Virginia</th>\n",
       "      <th>Washington</th>\n",
       "      <th>West Virginia</th>\n",
       "      <th>Wisconsin</th>\n",
       "      <th>Wyoming</th>\n",
       "    </tr>\n",
       "    <tr>\n",
       "      <th>Ship Mode</th>\n",
       "      <th></th>\n",
       "      <th></th>\n",
       "      <th></th>\n",
       "      <th></th>\n",
       "      <th></th>\n",
       "      <th></th>\n",
       "      <th></th>\n",
       "      <th></th>\n",
       "      <th></th>\n",
       "      <th></th>\n",
       "      <th></th>\n",
       "      <th></th>\n",
       "      <th></th>\n",
       "      <th></th>\n",
       "      <th></th>\n",
       "      <th></th>\n",
       "      <th></th>\n",
       "      <th></th>\n",
       "      <th></th>\n",
       "      <th></th>\n",
       "      <th></th>\n",
       "    </tr>\n",
       "  </thead>\n",
       "  <tbody>\n",
       "    <tr>\n",
       "      <th>First Class</th>\n",
       "      <td>0.000901</td>\n",
       "      <td>0.004203</td>\n",
       "      <td>0.001001</td>\n",
       "      <td>0.032219</td>\n",
       "      <td>0.004403</td>\n",
       "      <td>0.001901</td>\n",
       "      <td>0.001801</td>\n",
       "      <td>0.0000</td>\n",
       "      <td>0.005403</td>\n",
       "      <td>0.002201</td>\n",
       "      <td>...</td>\n",
       "      <td>0.000200</td>\n",
       "      <td>0.002201</td>\n",
       "      <td>0.014409</td>\n",
       "      <td>0.000400</td>\n",
       "      <td>0.000000</td>\n",
       "      <td>0.005003</td>\n",
       "      <td>0.006804</td>\n",
       "      <td>0.0000</td>\n",
       "      <td>0.001201</td>\n",
       "      <td>0.0000</td>\n",
       "    </tr>\n",
       "    <tr>\n",
       "      <th>Same Day</th>\n",
       "      <td>0.000100</td>\n",
       "      <td>0.001601</td>\n",
       "      <td>0.000200</td>\n",
       "      <td>0.011907</td>\n",
       "      <td>0.000600</td>\n",
       "      <td>0.001001</td>\n",
       "      <td>0.000200</td>\n",
       "      <td>0.0000</td>\n",
       "      <td>0.002802</td>\n",
       "      <td>0.001501</td>\n",
       "      <td>...</td>\n",
       "      <td>0.000000</td>\n",
       "      <td>0.000200</td>\n",
       "      <td>0.004803</td>\n",
       "      <td>0.000200</td>\n",
       "      <td>0.000000</td>\n",
       "      <td>0.000500</td>\n",
       "      <td>0.003902</td>\n",
       "      <td>0.0001</td>\n",
       "      <td>0.000700</td>\n",
       "      <td>0.0000</td>\n",
       "    </tr>\n",
       "    <tr>\n",
       "      <th>Second Class</th>\n",
       "      <td>0.001801</td>\n",
       "      <td>0.002702</td>\n",
       "      <td>0.001001</td>\n",
       "      <td>0.039524</td>\n",
       "      <td>0.003302</td>\n",
       "      <td>0.001101</td>\n",
       "      <td>0.001601</td>\n",
       "      <td>0.0003</td>\n",
       "      <td>0.006704</td>\n",
       "      <td>0.003102</td>\n",
       "      <td>...</td>\n",
       "      <td>0.000100</td>\n",
       "      <td>0.002502</td>\n",
       "      <td>0.019111</td>\n",
       "      <td>0.001901</td>\n",
       "      <td>0.000100</td>\n",
       "      <td>0.004303</td>\n",
       "      <td>0.010506</td>\n",
       "      <td>0.0000</td>\n",
       "      <td>0.001501</td>\n",
       "      <td>0.0000</td>\n",
       "    </tr>\n",
       "    <tr>\n",
       "      <th>Standard Class</th>\n",
       "      <td>0.003302</td>\n",
       "      <td>0.013908</td>\n",
       "      <td>0.003802</td>\n",
       "      <td>0.116570</td>\n",
       "      <td>0.009906</td>\n",
       "      <td>0.004203</td>\n",
       "      <td>0.006004</td>\n",
       "      <td>0.0007</td>\n",
       "      <td>0.023414</td>\n",
       "      <td>0.011607</td>\n",
       "      <td>...</td>\n",
       "      <td>0.000901</td>\n",
       "      <td>0.013408</td>\n",
       "      <td>0.060236</td>\n",
       "      <td>0.002802</td>\n",
       "      <td>0.001001</td>\n",
       "      <td>0.012608</td>\n",
       "      <td>0.029418</td>\n",
       "      <td>0.0003</td>\n",
       "      <td>0.007605</td>\n",
       "      <td>0.0001</td>\n",
       "    </tr>\n",
       "  </tbody>\n",
       "</table>\n",
       "<p>4 rows × 49 columns</p>\n",
       "</div>"
      ],
      "text/plain": [
       "State            Alabama   Arizona  Arkansas  California  Colorado  \\\n",
       "Ship Mode                                                            \n",
       "First Class     0.000901  0.004203  0.001001    0.032219  0.004403   \n",
       "Same Day        0.000100  0.001601  0.000200    0.011907  0.000600   \n",
       "Second Class    0.001801  0.002702  0.001001    0.039524  0.003302   \n",
       "Standard Class  0.003302  0.013908  0.003802    0.116570  0.009906   \n",
       "\n",
       "State           Connecticut  Delaware  District of Columbia   Florida  \\\n",
       "Ship Mode                                                               \n",
       "First Class        0.001901  0.001801                0.0000  0.005403   \n",
       "Same Day           0.001001  0.000200                0.0000  0.002802   \n",
       "Second Class       0.001101  0.001601                0.0003  0.006704   \n",
       "Standard Class     0.004203  0.006004                0.0007  0.023414   \n",
       "\n",
       "State            Georgia  ...  South Dakota  Tennessee     Texas      Utah  \\\n",
       "Ship Mode                 ...                                                \n",
       "First Class     0.002201  ...      0.000200   0.002201  0.014409  0.000400   \n",
       "Same Day        0.001501  ...      0.000000   0.000200  0.004803  0.000200   \n",
       "Second Class    0.003102  ...      0.000100   0.002502  0.019111  0.001901   \n",
       "Standard Class  0.011607  ...      0.000901   0.013408  0.060236  0.002802   \n",
       "\n",
       "State            Vermont  Virginia  Washington  West Virginia  Wisconsin  \\\n",
       "Ship Mode                                                                  \n",
       "First Class     0.000000  0.005003    0.006804         0.0000   0.001201   \n",
       "Same Day        0.000000  0.000500    0.003902         0.0001   0.000700   \n",
       "Second Class    0.000100  0.004303    0.010506         0.0000   0.001501   \n",
       "Standard Class  0.001001  0.012608    0.029418         0.0003   0.007605   \n",
       "\n",
       "State           Wyoming  \n",
       "Ship Mode                \n",
       "First Class      0.0000  \n",
       "Same Day         0.0000  \n",
       "Second Class     0.0000  \n",
       "Standard Class   0.0001  \n",
       "\n",
       "[4 rows x 49 columns]"
      ]
     },
     "execution_count": 10,
     "metadata": {},
     "output_type": "execute_result"
    }
   ],
   "source": [
    "pd.crosstab(index= df['Ship Mode'] ,columns=df['State'],normalize=True)"
   ]
  },
  {
   "cell_type": "code",
   "execution_count": 11,
   "metadata": {},
   "outputs": [
    {
     "data": {
      "text/html": [
       "<div>\n",
       "<style scoped>\n",
       "    .dataframe tbody tr th:only-of-type {\n",
       "        vertical-align: middle;\n",
       "    }\n",
       "\n",
       "    .dataframe tbody tr th {\n",
       "        vertical-align: top;\n",
       "    }\n",
       "\n",
       "    .dataframe thead th {\n",
       "        text-align: right;\n",
       "    }\n",
       "</style>\n",
       "<table border=\"1\" class=\"dataframe\">\n",
       "  <thead>\n",
       "    <tr style=\"text-align: right;\">\n",
       "      <th>Ship Mode</th>\n",
       "      <th>First Class</th>\n",
       "      <th>Same Day</th>\n",
       "      <th>Second Class</th>\n",
       "      <th>Standard Class</th>\n",
       "    </tr>\n",
       "    <tr>\n",
       "      <th>State</th>\n",
       "      <th></th>\n",
       "      <th></th>\n",
       "      <th></th>\n",
       "      <th></th>\n",
       "    </tr>\n",
       "  </thead>\n",
       "  <tbody>\n",
       "    <tr>\n",
       "      <th>Alabama</th>\n",
       "      <td>1634.8148</td>\n",
       "      <td>7.2500</td>\n",
       "      <td>2127.1661</td>\n",
       "      <td>2017.5944</td>\n",
       "    </tr>\n",
       "    <tr>\n",
       "      <th>Arizona</th>\n",
       "      <td>-802.5980</td>\n",
       "      <td>141.7095</td>\n",
       "      <td>-151.5379</td>\n",
       "      <td>-2615.4982</td>\n",
       "    </tr>\n",
       "    <tr>\n",
       "      <th>Arkansas</th>\n",
       "      <td>632.4793</td>\n",
       "      <td>58.4284</td>\n",
       "      <td>424.9932</td>\n",
       "      <td>2892.7862</td>\n",
       "    </tr>\n",
       "    <tr>\n",
       "      <th>California</th>\n",
       "      <td>12397.8882</td>\n",
       "      <td>5594.6111</td>\n",
       "      <td>14762.8831</td>\n",
       "      <td>43626.0047</td>\n",
       "    </tr>\n",
       "    <tr>\n",
       "      <th>Colorado</th>\n",
       "      <td>-1290.8187</td>\n",
       "      <td>49.9453</td>\n",
       "      <td>-65.3823</td>\n",
       "      <td>-5221.6022</td>\n",
       "    </tr>\n",
       "    <tr>\n",
       "      <th>Connecticut</th>\n",
       "      <td>570.6647</td>\n",
       "      <td>463.8963</td>\n",
       "      <td>883.8836</td>\n",
       "      <td>1593.0472</td>\n",
       "    </tr>\n",
       "    <tr>\n",
       "      <th>Delaware</th>\n",
       "      <td>864.6658</td>\n",
       "      <td>78.3350</td>\n",
       "      <td>454.7871</td>\n",
       "      <td>8579.5869</td>\n",
       "    </tr>\n",
       "    <tr>\n",
       "      <th>District of Columbia</th>\n",
       "      <td>NaN</td>\n",
       "      <td>NaN</td>\n",
       "      <td>48.2928</td>\n",
       "      <td>1011.2965</td>\n",
       "    </tr>\n",
       "    <tr>\n",
       "      <th>Florida</th>\n",
       "      <td>-83.7921</td>\n",
       "      <td>331.8017</td>\n",
       "      <td>540.0689</td>\n",
       "      <td>-4187.3802</td>\n",
       "    </tr>\n",
       "    <tr>\n",
       "      <th>Georgia</th>\n",
       "      <td>1098.2801</td>\n",
       "      <td>866.1197</td>\n",
       "      <td>3341.4859</td>\n",
       "      <td>10944.1576</td>\n",
       "    </tr>\n",
       "    <tr>\n",
       "      <th>Idaho</th>\n",
       "      <td>103.7946</td>\n",
       "      <td>NaN</td>\n",
       "      <td>115.3487</td>\n",
       "      <td>607.5798</td>\n",
       "    </tr>\n",
       "    <tr>\n",
       "      <th>Illinois</th>\n",
       "      <td>-1858.4439</td>\n",
       "      <td>-247.9778</td>\n",
       "      <td>-1519.8207</td>\n",
       "      <td>-8981.6446</td>\n",
       "    </tr>\n",
       "    <tr>\n",
       "      <th>Indiana</th>\n",
       "      <td>835.3823</td>\n",
       "      <td>367.8922</td>\n",
       "      <td>3023.8794</td>\n",
       "      <td>14155.7824</td>\n",
       "    </tr>\n",
       "    <tr>\n",
       "      <th>Iowa</th>\n",
       "      <td>80.7360</td>\n",
       "      <td>3.1104</td>\n",
       "      <td>212.3078</td>\n",
       "      <td>887.6577</td>\n",
       "    </tr>\n",
       "    <tr>\n",
       "      <th>Kansas</th>\n",
       "      <td>156.0501</td>\n",
       "      <td>7.9896</td>\n",
       "      <td>68.2124</td>\n",
       "      <td>604.1914</td>\n",
       "    </tr>\n",
       "    <tr>\n",
       "      <th>Kentucky</th>\n",
       "      <td>611.6746</td>\n",
       "      <td>56.0554</td>\n",
       "      <td>4124.5095</td>\n",
       "      <td>6407.4571</td>\n",
       "    </tr>\n",
       "    <tr>\n",
       "      <th>Louisiana</th>\n",
       "      <td>539.5665</td>\n",
       "      <td>19.7976</td>\n",
       "      <td>809.6102</td>\n",
       "      <td>827.1280</td>\n",
       "    </tr>\n",
       "    <tr>\n",
       "      <th>Maine</th>\n",
       "      <td>NaN</td>\n",
       "      <td>NaN</td>\n",
       "      <td>NaN</td>\n",
       "      <td>454.4862</td>\n",
       "    </tr>\n",
       "    <tr>\n",
       "      <th>Maryland</th>\n",
       "      <td>430.2896</td>\n",
       "      <td>1103.7461</td>\n",
       "      <td>1303.2234</td>\n",
       "      <td>4193.9197</td>\n",
       "    </tr>\n",
       "    <tr>\n",
       "      <th>Massachusetts</th>\n",
       "      <td>1212.8017</td>\n",
       "      <td>266.0858</td>\n",
       "      <td>2177.7041</td>\n",
       "      <td>3128.9100</td>\n",
       "    </tr>\n",
       "    <tr>\n",
       "      <th>Michigan</th>\n",
       "      <td>3639.2956</td>\n",
       "      <td>1132.6022</td>\n",
       "      <td>5339.4517</td>\n",
       "      <td>14351.8381</td>\n",
       "    </tr>\n",
       "    <tr>\n",
       "      <th>Minnesota</th>\n",
       "      <td>981.1409</td>\n",
       "      <td>131.8881</td>\n",
       "      <td>1240.1362</td>\n",
       "      <td>8470.0222</td>\n",
       "    </tr>\n",
       "    <tr>\n",
       "      <th>Mississippi</th>\n",
       "      <td>179.3924</td>\n",
       "      <td>336.7850</td>\n",
       "      <td>576.0003</td>\n",
       "      <td>2080.7985</td>\n",
       "    </tr>\n",
       "    <tr>\n",
       "      <th>Missouri</th>\n",
       "      <td>136.3298</td>\n",
       "      <td>84.4272</td>\n",
       "      <td>1740.1399</td>\n",
       "      <td>4475.3136</td>\n",
       "    </tr>\n",
       "    <tr>\n",
       "      <th>Montana</th>\n",
       "      <td>10.3740</td>\n",
       "      <td>2.6936</td>\n",
       "      <td>NaN</td>\n",
       "      <td>1820.2609</td>\n",
       "    </tr>\n",
       "    <tr>\n",
       "      <th>Nebraska</th>\n",
       "      <td>218.7624</td>\n",
       "      <td>60.0638</td>\n",
       "      <td>91.7416</td>\n",
       "      <td>1666.5264</td>\n",
       "    </tr>\n",
       "    <tr>\n",
       "      <th>Nevada</th>\n",
       "      <td>417.9082</td>\n",
       "      <td>59.4930</td>\n",
       "      <td>1993.7049</td>\n",
       "      <td>845.6598</td>\n",
       "    </tr>\n",
       "    <tr>\n",
       "      <th>New Hampshire</th>\n",
       "      <td>43.8180</td>\n",
       "      <td>NaN</td>\n",
       "      <td>728.7683</td>\n",
       "      <td>933.9165</td>\n",
       "    </tr>\n",
       "    <tr>\n",
       "      <th>New Jersey</th>\n",
       "      <td>453.8070</td>\n",
       "      <td>18.4470</td>\n",
       "      <td>1353.2555</td>\n",
       "      <td>7947.4043</td>\n",
       "    </tr>\n",
       "    <tr>\n",
       "      <th>New Mexico</th>\n",
       "      <td>54.3966</td>\n",
       "      <td>112.5740</td>\n",
       "      <td>348.7072</td>\n",
       "      <td>641.4383</td>\n",
       "    </tr>\n",
       "    <tr>\n",
       "      <th>New York</th>\n",
       "      <td>16755.2533</td>\n",
       "      <td>6709.2457</td>\n",
       "      <td>8527.7497</td>\n",
       "      <td>42046.2999</td>\n",
       "    </tr>\n",
       "    <tr>\n",
       "      <th>North Carolina</th>\n",
       "      <td>246.2780</td>\n",
       "      <td>-3666.0344</td>\n",
       "      <td>-1737.1353</td>\n",
       "      <td>-2334.0205</td>\n",
       "    </tr>\n",
       "    <tr>\n",
       "      <th>North Dakota</th>\n",
       "      <td>NaN</td>\n",
       "      <td>NaN</td>\n",
       "      <td>216.5907</td>\n",
       "      <td>13.5590</td>\n",
       "    </tr>\n",
       "    <tr>\n",
       "      <th>Ohio</th>\n",
       "      <td>-3494.8391</td>\n",
       "      <td>-560.1442</td>\n",
       "      <td>-1900.3108</td>\n",
       "      <td>-11016.0825</td>\n",
       "    </tr>\n",
       "    <tr>\n",
       "      <th>Oklahoma</th>\n",
       "      <td>481.1673</td>\n",
       "      <td>793.4980</td>\n",
       "      <td>353.7357</td>\n",
       "      <td>3225.5550</td>\n",
       "    </tr>\n",
       "    <tr>\n",
       "      <th>Oregon</th>\n",
       "      <td>-404.0404</td>\n",
       "      <td>NaN</td>\n",
       "      <td>80.0277</td>\n",
       "      <td>-866.4578</td>\n",
       "    </tr>\n",
       "    <tr>\n",
       "      <th>Pennsylvania</th>\n",
       "      <td>-1967.3613</td>\n",
       "      <td>-22.3911</td>\n",
       "      <td>-4854.4878</td>\n",
       "      <td>-8715.7201</td>\n",
       "    </tr>\n",
       "    <tr>\n",
       "      <th>Rhode Island</th>\n",
       "      <td>862.9144</td>\n",
       "      <td>NaN</td>\n",
       "      <td>1885.6249</td>\n",
       "      <td>4537.0900</td>\n",
       "    </tr>\n",
       "    <tr>\n",
       "      <th>South Carolina</th>\n",
       "      <td>36.5119</td>\n",
       "      <td>62.2930</td>\n",
       "      <td>558.4866</td>\n",
       "      <td>1111.7651</td>\n",
       "    </tr>\n",
       "    <tr>\n",
       "      <th>South Dakota</th>\n",
       "      <td>44.7684</td>\n",
       "      <td>NaN</td>\n",
       "      <td>6.6300</td>\n",
       "      <td>343.4299</td>\n",
       "    </tr>\n",
       "    <tr>\n",
       "      <th>Tennessee</th>\n",
       "      <td>-1251.7395</td>\n",
       "      <td>-12.0292</td>\n",
       "      <td>-1116.9173</td>\n",
       "      <td>-2961.0076</td>\n",
       "    </tr>\n",
       "    <tr>\n",
       "      <th>Texas</th>\n",
       "      <td>-2331.6599</td>\n",
       "      <td>-859.6832</td>\n",
       "      <td>-2945.3641</td>\n",
       "      <td>-19592.6491</td>\n",
       "    </tr>\n",
       "    <tr>\n",
       "      <th>Utah</th>\n",
       "      <td>531.2442</td>\n",
       "      <td>13.8308</td>\n",
       "      <td>1037.3030</td>\n",
       "      <td>964.1555</td>\n",
       "    </tr>\n",
       "    <tr>\n",
       "      <th>Vermont</th>\n",
       "      <td>NaN</td>\n",
       "      <td>NaN</td>\n",
       "      <td>178.8000</td>\n",
       "      <td>2066.1783</td>\n",
       "    </tr>\n",
       "    <tr>\n",
       "      <th>Virginia</th>\n",
       "      <td>3248.9194</td>\n",
       "      <td>177.1978</td>\n",
       "      <td>5018.8788</td>\n",
       "      <td>10152.9544</td>\n",
       "    </tr>\n",
       "    <tr>\n",
       "      <th>Washington</th>\n",
       "      <td>11620.0245</td>\n",
       "      <td>2167.0899</td>\n",
       "      <td>4756.3084</td>\n",
       "      <td>14859.2289</td>\n",
       "    </tr>\n",
       "    <tr>\n",
       "      <th>West Virginia</th>\n",
       "      <td>NaN</td>\n",
       "      <td>-76.9536</td>\n",
       "      <td>NaN</td>\n",
       "      <td>262.8752</td>\n",
       "    </tr>\n",
       "    <tr>\n",
       "      <th>Wisconsin</th>\n",
       "      <td>1323.7382</td>\n",
       "      <td>58.0692</td>\n",
       "      <td>1287.1943</td>\n",
       "      <td>5732.7987</td>\n",
       "    </tr>\n",
       "    <tr>\n",
       "      <th>Wyoming</th>\n",
       "      <td>NaN</td>\n",
       "      <td>NaN</td>\n",
       "      <td>NaN</td>\n",
       "      <td>100.1960</td>\n",
       "    </tr>\n",
       "  </tbody>\n",
       "</table>\n",
       "</div>"
      ],
      "text/plain": [
       "Ship Mode             First Class   Same Day  Second Class  Standard Class\n",
       "State                                                                     \n",
       "Alabama                 1634.8148     7.2500     2127.1661       2017.5944\n",
       "Arizona                 -802.5980   141.7095     -151.5379      -2615.4982\n",
       "Arkansas                 632.4793    58.4284      424.9932       2892.7862\n",
       "California             12397.8882  5594.6111    14762.8831      43626.0047\n",
       "Colorado               -1290.8187    49.9453      -65.3823      -5221.6022\n",
       "Connecticut              570.6647   463.8963      883.8836       1593.0472\n",
       "Delaware                 864.6658    78.3350      454.7871       8579.5869\n",
       "District of Columbia          NaN        NaN       48.2928       1011.2965\n",
       "Florida                  -83.7921   331.8017      540.0689      -4187.3802\n",
       "Georgia                 1098.2801   866.1197     3341.4859      10944.1576\n",
       "Idaho                    103.7946        NaN      115.3487        607.5798\n",
       "Illinois               -1858.4439  -247.9778    -1519.8207      -8981.6446\n",
       "Indiana                  835.3823   367.8922     3023.8794      14155.7824\n",
       "Iowa                      80.7360     3.1104      212.3078        887.6577\n",
       "Kansas                   156.0501     7.9896       68.2124        604.1914\n",
       "Kentucky                 611.6746    56.0554     4124.5095       6407.4571\n",
       "Louisiana                539.5665    19.7976      809.6102        827.1280\n",
       "Maine                         NaN        NaN           NaN        454.4862\n",
       "Maryland                 430.2896  1103.7461     1303.2234       4193.9197\n",
       "Massachusetts           1212.8017   266.0858     2177.7041       3128.9100\n",
       "Michigan                3639.2956  1132.6022     5339.4517      14351.8381\n",
       "Minnesota                981.1409   131.8881     1240.1362       8470.0222\n",
       "Mississippi              179.3924   336.7850      576.0003       2080.7985\n",
       "Missouri                 136.3298    84.4272     1740.1399       4475.3136\n",
       "Montana                   10.3740     2.6936           NaN       1820.2609\n",
       "Nebraska                 218.7624    60.0638       91.7416       1666.5264\n",
       "Nevada                   417.9082    59.4930     1993.7049        845.6598\n",
       "New Hampshire             43.8180        NaN      728.7683        933.9165\n",
       "New Jersey               453.8070    18.4470     1353.2555       7947.4043\n",
       "New Mexico                54.3966   112.5740      348.7072        641.4383\n",
       "New York               16755.2533  6709.2457     8527.7497      42046.2999\n",
       "North Carolina           246.2780 -3666.0344    -1737.1353      -2334.0205\n",
       "North Dakota                  NaN        NaN      216.5907         13.5590\n",
       "Ohio                   -3494.8391  -560.1442    -1900.3108     -11016.0825\n",
       "Oklahoma                 481.1673   793.4980      353.7357       3225.5550\n",
       "Oregon                  -404.0404        NaN       80.0277       -866.4578\n",
       "Pennsylvania           -1967.3613   -22.3911    -4854.4878      -8715.7201\n",
       "Rhode Island             862.9144        NaN     1885.6249       4537.0900\n",
       "South Carolina            36.5119    62.2930      558.4866       1111.7651\n",
       "South Dakota              44.7684        NaN        6.6300        343.4299\n",
       "Tennessee              -1251.7395   -12.0292    -1116.9173      -2961.0076\n",
       "Texas                  -2331.6599  -859.6832    -2945.3641     -19592.6491\n",
       "Utah                     531.2442    13.8308     1037.3030        964.1555\n",
       "Vermont                       NaN        NaN      178.8000       2066.1783\n",
       "Virginia                3248.9194   177.1978     5018.8788      10152.9544\n",
       "Washington             11620.0245  2167.0899     4756.3084      14859.2289\n",
       "West Virginia                 NaN   -76.9536           NaN        262.8752\n",
       "Wisconsin               1323.7382    58.0692     1287.1943       5732.7987\n",
       "Wyoming                       NaN        NaN           NaN        100.1960"
      ]
     },
     "execution_count": 11,
     "metadata": {},
     "output_type": "execute_result"
    }
   ],
   "source": [
    "pd.crosstab(columns= df['Ship Mode'] ,index=df['State'],values=df['Profit'] , aggfunc=sum)"
   ]
  },
  {
   "cell_type": "code",
   "execution_count": 12,
   "metadata": {},
   "outputs": [
    {
     "data": {
      "text/plain": [
       "State\n",
       "Alabama                  5786.8253\n",
       "Arizona                 -3427.9246\n",
       "Arkansas                 4008.6871\n",
       "California              76381.3871\n",
       "Colorado                -6527.8579\n",
       "Connecticut              3511.4918\n",
       "Delaware                 9977.3748\n",
       "District of Columbia     1059.5893\n",
       "Florida                 -3399.3017\n",
       "Georgia                 16250.0433\n",
       "Idaho                     826.7231\n",
       "Illinois               -12607.8870\n",
       "Indiana                 18382.9363\n",
       "Iowa                     1183.8119\n",
       "Kansas                    836.4435\n",
       "Kentucky                11199.6966\n",
       "Louisiana                2196.1023\n",
       "Maine                     454.4862\n",
       "Maryland                 7031.1788\n",
       "Massachusetts            6785.5016\n",
       "Michigan                24463.1876\n",
       "Minnesota               10823.1874\n",
       "Mississippi              3172.9762\n",
       "Missouri                 6436.2105\n",
       "Montana                  1833.3285\n",
       "Nebraska                 2037.0942\n",
       "Nevada                   3316.7659\n",
       "New Hampshire            1706.5028\n",
       "New Jersey               9772.9138\n",
       "New Mexico               1157.1161\n",
       "New York                74038.5486\n",
       "North Carolina          -7490.9122\n",
       "North Dakota              230.1497\n",
       "Ohio                   -16971.3766\n",
       "Oklahoma                 4853.9560\n",
       "Oregon                  -1190.4705\n",
       "Pennsylvania           -15559.9603\n",
       "Rhode Island             7285.6293\n",
       "South Carolina           1769.0566\n",
       "South Dakota              394.8283\n",
       "Tennessee               -5341.6936\n",
       "Texas                  -25729.3563\n",
       "Utah                     2546.5335\n",
       "Vermont                  2244.9783\n",
       "Virginia                18597.9504\n",
       "Washington              33402.6517\n",
       "West Virginia             185.9216\n",
       "Wisconsin                8401.8004\n",
       "Wyoming                   100.1960\n",
       "Name: Profit, dtype: float64"
      ]
     },
     "execution_count": 12,
     "metadata": {},
     "output_type": "execute_result"
    }
   ],
   "source": [
    "df.groupby(df['State'])['Profit'].sum()"
   ]
  },
  {
   "cell_type": "code",
   "execution_count": 13,
   "metadata": {},
   "outputs": [],
   "source": [
    "count = df.groupby(df['State'])['Profit'].sum()"
   ]
  },
  {
   "cell_type": "code",
   "execution_count": 14,
   "metadata": {},
   "outputs": [
    {
     "name": "stdout",
     "output_type": "stream",
     "text": [
      "Arizona          -3427.9246\n",
      "Colorado          -6527.8579\n",
      "Florida          -3399.3017\n",
      "Illinois          -12607.887\n",
      "North Carolina          -7490.912200000001\n",
      "Ohio          -16971.3766\n",
      "Oregon          -1190.4705\n",
      "Pennsylvania          -15559.9603\n",
      "Tennessee          -5341.6936\n",
      "Texas          -25729.3563\n"
     ]
    }
   ],
   "source": [
    "# get the name of satate that cause the loss  in profit we have get indeeper to know the reason for loss \n",
    "for  name, value in zip(count.index,count.values) :\n",
    "    if value<0:\n",
    "        print(name ,\"        \",value)\n",
    "    \n",
    "      \n",
    " "
   ]
  },
  {
   "cell_type": "code",
   "execution_count": 15,
   "metadata": {},
   "outputs": [
    {
     "data": {
      "text/html": [
       "<div>\n",
       "<style scoped>\n",
       "    .dataframe tbody tr th:only-of-type {\n",
       "        vertical-align: middle;\n",
       "    }\n",
       "\n",
       "    .dataframe tbody tr th {\n",
       "        vertical-align: top;\n",
       "    }\n",
       "\n",
       "    .dataframe thead th {\n",
       "        text-align: right;\n",
       "    }\n",
       "</style>\n",
       "<table border=\"1\" class=\"dataframe\">\n",
       "  <thead>\n",
       "    <tr style=\"text-align: right;\">\n",
       "      <th></th>\n",
       "      <th>Order ID</th>\n",
       "      <th>Order Date</th>\n",
       "      <th>Ship Date</th>\n",
       "      <th>Ship Mode</th>\n",
       "      <th>Customer ID</th>\n",
       "      <th>Customer Name</th>\n",
       "      <th>Segment</th>\n",
       "      <th>Country</th>\n",
       "      <th>City</th>\n",
       "      <th>State</th>\n",
       "      <th>Postal Code</th>\n",
       "      <th>Region</th>\n",
       "      <th>Product ID</th>\n",
       "      <th>Category</th>\n",
       "      <th>Sub-Category</th>\n",
       "      <th>Product Name</th>\n",
       "      <th>Sales</th>\n",
       "      <th>Quantity</th>\n",
       "      <th>Discount</th>\n",
       "      <th>Profit</th>\n",
       "    </tr>\n",
       "  </thead>\n",
       "  <tbody>\n",
       "    <tr>\n",
       "      <th>0</th>\n",
       "      <td>CA-2019-103800</td>\n",
       "      <td>2019-01-03</td>\n",
       "      <td>2019-01-07</td>\n",
       "      <td>Standard Class</td>\n",
       "      <td>DP-13000</td>\n",
       "      <td>Darren Powers</td>\n",
       "      <td>Consumer</td>\n",
       "      <td>United States</td>\n",
       "      <td>Houston</td>\n",
       "      <td>Texas</td>\n",
       "      <td>77095</td>\n",
       "      <td>Central</td>\n",
       "      <td>OFF-PA-10000174</td>\n",
       "      <td>Office Supplies</td>\n",
       "      <td>Paper</td>\n",
       "      <td>Message Book, Wirebound, Four 5 1/2\" X 4\" Form...</td>\n",
       "      <td>16.448</td>\n",
       "      <td>2</td>\n",
       "      <td>0.2</td>\n",
       "      <td>5.5512</td>\n",
       "    </tr>\n",
       "    <tr>\n",
       "      <th>1</th>\n",
       "      <td>CA-2019-112326</td>\n",
       "      <td>2019-01-04</td>\n",
       "      <td>2019-01-08</td>\n",
       "      <td>Standard Class</td>\n",
       "      <td>PO-19195</td>\n",
       "      <td>Phillina Ober</td>\n",
       "      <td>Home Office</td>\n",
       "      <td>United States</td>\n",
       "      <td>Naperville</td>\n",
       "      <td>Illinois</td>\n",
       "      <td>60540</td>\n",
       "      <td>Central</td>\n",
       "      <td>OFF-LA-10003223</td>\n",
       "      <td>Office Supplies</td>\n",
       "      <td>Labels</td>\n",
       "      <td>Avery 508</td>\n",
       "      <td>11.784</td>\n",
       "      <td>3</td>\n",
       "      <td>0.2</td>\n",
       "      <td>4.2717</td>\n",
       "    </tr>\n",
       "    <tr>\n",
       "      <th>2</th>\n",
       "      <td>CA-2019-112326</td>\n",
       "      <td>2019-01-04</td>\n",
       "      <td>2019-01-08</td>\n",
       "      <td>Standard Class</td>\n",
       "      <td>PO-19195</td>\n",
       "      <td>Phillina Ober</td>\n",
       "      <td>Home Office</td>\n",
       "      <td>United States</td>\n",
       "      <td>Naperville</td>\n",
       "      <td>Illinois</td>\n",
       "      <td>60540</td>\n",
       "      <td>Central</td>\n",
       "      <td>OFF-ST-10002743</td>\n",
       "      <td>Office Supplies</td>\n",
       "      <td>Storage</td>\n",
       "      <td>SAFCO Boltless Steel Shelving</td>\n",
       "      <td>272.736</td>\n",
       "      <td>3</td>\n",
       "      <td>0.2</td>\n",
       "      <td>-64.7748</td>\n",
       "    </tr>\n",
       "    <tr>\n",
       "      <th>3</th>\n",
       "      <td>CA-2019-112326</td>\n",
       "      <td>2019-01-04</td>\n",
       "      <td>2019-01-08</td>\n",
       "      <td>Standard Class</td>\n",
       "      <td>PO-19195</td>\n",
       "      <td>Phillina Ober</td>\n",
       "      <td>Home Office</td>\n",
       "      <td>United States</td>\n",
       "      <td>Naperville</td>\n",
       "      <td>Illinois</td>\n",
       "      <td>60540</td>\n",
       "      <td>Central</td>\n",
       "      <td>OFF-BI-10004094</td>\n",
       "      <td>Office Supplies</td>\n",
       "      <td>Binders</td>\n",
       "      <td>GBC Standard Plastic Binding Systems Combs</td>\n",
       "      <td>3.540</td>\n",
       "      <td>2</td>\n",
       "      <td>0.8</td>\n",
       "      <td>-5.4870</td>\n",
       "    </tr>\n",
       "    <tr>\n",
       "      <th>4</th>\n",
       "      <td>CA-2019-141817</td>\n",
       "      <td>2019-01-05</td>\n",
       "      <td>2019-01-12</td>\n",
       "      <td>Standard Class</td>\n",
       "      <td>MB-18085</td>\n",
       "      <td>Mick Brown</td>\n",
       "      <td>Consumer</td>\n",
       "      <td>United States</td>\n",
       "      <td>Philadelphia</td>\n",
       "      <td>Pennsylvania</td>\n",
       "      <td>19143</td>\n",
       "      <td>East</td>\n",
       "      <td>OFF-AR-10003478</td>\n",
       "      <td>Office Supplies</td>\n",
       "      <td>Art</td>\n",
       "      <td>Avery Hi-Liter EverBold Pen Style Fluorescent ...</td>\n",
       "      <td>19.536</td>\n",
       "      <td>3</td>\n",
       "      <td>0.2</td>\n",
       "      <td>4.8840</td>\n",
       "    </tr>\n",
       "  </tbody>\n",
       "</table>\n",
       "</div>"
      ],
      "text/plain": [
       "         Order ID  Order Date   Ship Date       Ship Mode Customer ID  \\\n",
       "0  CA-2019-103800  2019-01-03  2019-01-07  Standard Class    DP-13000   \n",
       "1  CA-2019-112326  2019-01-04  2019-01-08  Standard Class    PO-19195   \n",
       "2  CA-2019-112326  2019-01-04  2019-01-08  Standard Class    PO-19195   \n",
       "3  CA-2019-112326  2019-01-04  2019-01-08  Standard Class    PO-19195   \n",
       "4  CA-2019-141817  2019-01-05  2019-01-12  Standard Class    MB-18085   \n",
       "\n",
       "   Customer Name      Segment        Country          City         State  \\\n",
       "0  Darren Powers     Consumer  United States       Houston         Texas   \n",
       "1  Phillina Ober  Home Office  United States    Naperville      Illinois   \n",
       "2  Phillina Ober  Home Office  United States    Naperville      Illinois   \n",
       "3  Phillina Ober  Home Office  United States    Naperville      Illinois   \n",
       "4     Mick Brown     Consumer  United States  Philadelphia  Pennsylvania   \n",
       "\n",
       "   Postal Code   Region       Product ID         Category Sub-Category  \\\n",
       "0        77095  Central  OFF-PA-10000174  Office Supplies        Paper   \n",
       "1        60540  Central  OFF-LA-10003223  Office Supplies       Labels   \n",
       "2        60540  Central  OFF-ST-10002743  Office Supplies      Storage   \n",
       "3        60540  Central  OFF-BI-10004094  Office Supplies      Binders   \n",
       "4        19143     East  OFF-AR-10003478  Office Supplies          Art   \n",
       "\n",
       "                                        Product Name    Sales  Quantity  \\\n",
       "0  Message Book, Wirebound, Four 5 1/2\" X 4\" Form...   16.448         2   \n",
       "1                                          Avery 508   11.784         3   \n",
       "2                      SAFCO Boltless Steel Shelving  272.736         3   \n",
       "3         GBC Standard Plastic Binding Systems Combs    3.540         2   \n",
       "4  Avery Hi-Liter EverBold Pen Style Fluorescent ...   19.536         3   \n",
       "\n",
       "   Discount   Profit  \n",
       "0       0.2   5.5512  \n",
       "1       0.2   4.2717  \n",
       "2       0.2 -64.7748  \n",
       "3       0.8  -5.4870  \n",
       "4       0.2   4.8840  "
      ]
     },
     "execution_count": 15,
     "metadata": {},
     "output_type": "execute_result"
    }
   ],
   "source": [
    "df.head()"
   ]
  },
  {
   "cell_type": "code",
   "execution_count": 16,
   "metadata": {},
   "outputs": [],
   "source": [
    "df['revenue'] = df['Sales']*df['Quantity']"
   ]
  },
  {
   "cell_type": "code",
   "execution_count": 17,
   "metadata": {},
   "outputs": [
    {
     "data": {
      "text/plain": [
       "0         32.896\n",
       "1         35.352\n",
       "2        818.208\n",
       "3          7.080\n",
       "4         58.608\n",
       "          ...   \n",
       "9989       9.072\n",
       "9990     158.328\n",
       "9991     636.510\n",
       "9992      27.808\n",
       "9993    1292.544\n",
       "Name: revenue, Length: 9994, dtype: float64"
      ]
     },
     "execution_count": 17,
     "metadata": {},
     "output_type": "execute_result"
    }
   ],
   "source": [
    "df.revenue"
   ]
  },
  {
   "cell_type": "code",
   "execution_count": 18,
   "metadata": {},
   "outputs": [],
   "source": [
    "df['revenue_discount'] = df['revenue']*df['Discount']"
   ]
  },
  {
   "cell_type": "code",
   "execution_count": 19,
   "metadata": {},
   "outputs": [
    {
     "data": {
      "text/plain": [
       "0         6.5792\n",
       "1         7.0704\n",
       "2       163.6416\n",
       "3         5.6640\n",
       "4        11.7216\n",
       "          ...   \n",
       "9989      1.8144\n",
       "9990     31.6656\n",
       "9991      0.0000\n",
       "9992      5.5616\n",
       "9993    258.5088\n",
       "Name: revenue_discount, Length: 9994, dtype: float64"
      ]
     },
     "execution_count": 19,
     "metadata": {},
     "output_type": "execute_result"
    }
   ],
   "source": [
    "df['revenue_discount']"
   ]
  },
  {
   "cell_type": "code",
   "execution_count": 20,
   "metadata": {},
   "outputs": [
    {
     "data": {
      "text/plain": [
       "0         26.3168\n",
       "1         28.2816\n",
       "2        654.5664\n",
       "3          1.4160\n",
       "4         46.8864\n",
       "          ...    \n",
       "9989       7.2576\n",
       "9990     126.6624\n",
       "9991     636.5100\n",
       "9992      22.2464\n",
       "9993    1034.0352\n",
       "Length: 9994, dtype: float64"
      ]
     },
     "execution_count": 20,
     "metadata": {},
     "output_type": "execute_result"
    }
   ],
   "source": [
    "df['revenue']-df['revenue_discount']"
   ]
  },
  {
   "cell_type": "code",
   "execution_count": 21,
   "metadata": {},
   "outputs": [
    {
     "data": {
      "text/plain": [
       "0        5.5512\n",
       "1        4.2717\n",
       "2      -64.7748\n",
       "3       -5.4870\n",
       "4        4.8840\n",
       "         ...   \n",
       "9989    -0.6048\n",
       "9990    19.7910\n",
       "9991     2.7279\n",
       "9992     4.5188\n",
       "9993    12.1176\n",
       "Name: Profit, Length: 9994, dtype: float64"
      ]
     },
     "execution_count": 21,
     "metadata": {},
     "output_type": "execute_result"
    }
   ],
   "source": [
    "df['Profit']"
   ]
  },
  {
   "attachments": {},
   "cell_type": "markdown",
   "metadata": {},
   "source": [
    "we sold with high price but something happened in profit we get nigative we have to know more data to find out where is the issue but i can consider the common reason that usually  cause that :\n",
    "\n",
    "1 **margin of profit the cost of goods is expensive than the price sale**\n",
    "\n",
    "2 **price stratigity that apply in this states if they have indiviual sterategty  or the company make one sterategty**  \n",
    "**that apply for all stats that mean poor in the finaicial and we have develop more than one to apply diffrent areas**\n",
    "\n",
    "3 **loss in inventory that happen in that stats**\n",
    "\n",
    "5 **the final is the company branch have expense that pay once like they are rent bigger store or buy new equipment**"
   ]
  },
  {
   "cell_type": "code",
   "execution_count": 22,
   "metadata": {},
   "outputs": [],
   "source": [
    "import matplotlib.pyplot as plt\n",
    "import seaborn as sns"
   ]
  },
  {
   "cell_type": "code",
   "execution_count": 23,
   "metadata": {},
   "outputs": [],
   "source": [
    "df['Order Date']=pd.to_datetime(df['Order Date'])"
   ]
  },
  {
   "cell_type": "code",
   "execution_count": 24,
   "metadata": {},
   "outputs": [
    {
     "data": {
      "text/plain": [
       "0        January\n",
       "1        January\n",
       "2        January\n",
       "3        January\n",
       "4        January\n",
       "          ...   \n",
       "9989    December\n",
       "9990    December\n",
       "9991    December\n",
       "9992    December\n",
       "9993    December\n",
       "Name: Order Date, Length: 9994, dtype: object"
      ]
     },
     "execution_count": 24,
     "metadata": {},
     "output_type": "execute_result"
    }
   ],
   "source": [
    "df['Order Date'].dt.month_name()"
   ]
  },
  {
   "cell_type": "code",
   "execution_count": 25,
   "metadata": {},
   "outputs": [
    {
     "data": {
      "text/plain": [
       "<AxesSubplot:xlabel='Order Date', ylabel='revenue'>"
      ]
     },
     "execution_count": 25,
     "metadata": {},
     "output_type": "execute_result"
    },
    {
     "data": {
      "image/png": "[encoded data removed]",
      "text/plain": [
       "<Figure size 1080x720 with 1 Axes>"
      ]
     },
     "metadata": {
      "needs_background": "light"
     },
     "output_type": "display_data"
    }
   ],
   "source": [
    "plt.figure(figsize=(15,10))\n",
    "sns.lineplot(x=df['Order Date'].dt.month_name() ,y = 'revenue',data = df , markers=\"o\" )"
   ]
  },
  {
   "cell_type": "code",
   "execution_count": 26,
   "metadata": {},
   "outputs": [
    {
     "data": {
      "image/png": "[encoded data removed]",
      "text/plain": [
       "<Figure size 1080x720 with 1 Axes>"
      ]
     },
     "metadata": {
      "needs_background": "light"
     },
     "output_type": "display_data"
    }
   ],
   "source": [
    "plt.figure(figsize=(15,10))\n",
    "\n",
    "ax = sns.scatterplot(x=df['Order Date'].dt.month_name() , y = 'Profit',hue = 'Profit', data = df , markers=\"o\")\n",
    "ax.axhline(0)\n",
    "plt.legend()\n",
    "plt.show()"
   ]
  },
  {
   "cell_type": "code",
   "execution_count": 27,
   "metadata": {},
   "outputs": [
    {
     "data": {
      "text/plain": [
       "Order Date\n",
       "December     42416.0829\n",
       "September    36275.2327\n",
       "November     35499.4790\n",
       "October      32536.3976\n",
       "March        28581.9690\n",
       "August       22701.3920\n",
       "May          22645.5630\n",
       "June         20985.3168\n",
       "July         13660.1540\n",
       "April        11653.6597\n",
       "February     10244.1127\n",
       "January       9197.6623\n",
       "Name: Profit, dtype: float64"
      ]
     },
     "execution_count": 27,
     "metadata": {},
     "output_type": "execute_result"
    }
   ],
   "source": [
    "df.groupby(df['Order Date'].dt.month_name())['Profit'].sum().sort_values(ascending=False)"
   ]
  },
  {
   "cell_type": "code",
   "execution_count": 28,
   "metadata": {},
   "outputs": [
    {
     "data": {
      "text/plain": [
       "<AxesSubplot:xlabel='Order Date'>"
      ]
     },
     "execution_count": 28,
     "metadata": {},
     "output_type": "execute_result"
    },
    {
     "data": {
      "image/png": "[encoded data removed]",
      "text/plain": [
       "<Figure size 432x288 with 1 Axes>"
      ]
     },
     "metadata": {
      "needs_background": "light"
     },
     "output_type": "display_data"
    }
   ],
   "source": [
    "df.groupby(df['Order Date'].dt.month_name())['revenue'].sum().sort_values().plot()"
   ]
  },
  {
   "cell_type": "markdown",
   "metadata": {},
   "source": [
    "the loss in profit don't appear in (monthly,quarter,yearly) revenue but it show more clearliy when we analysis the stats and the product as well"
   ]
  },
  {
   "cell_type": "code",
   "execution_count": 30,
   "metadata": {},
   "outputs": [],
   "source": [
    "df['month'] = df['Order Date'].dt.month"
   ]
  },
  {
   "cell_type": "code",
   "execution_count": 31,
   "metadata": {},
   "outputs": [
    {
     "data": {
      "text/plain": [
       "0        1\n",
       "1        1\n",
       "2        1\n",
       "3        1\n",
       "4        1\n",
       "        ..\n",
       "9989    12\n",
       "9990    12\n",
       "9991    12\n",
       "9992    12\n",
       "9993    12\n",
       "Name: month, Length: 9994, dtype: int64"
      ]
     },
     "execution_count": 31,
     "metadata": {},
     "output_type": "execute_result"
    }
   ],
   "source": [
    "df['month']"
   ]
  },
  {
   "cell_type": "code",
   "execution_count": 33,
   "metadata": {},
   "outputs": [
    {
     "data": {
      "text/html": [
       "<div>\n",
       "<style scoped>\n",
       "    .dataframe tbody tr th:only-of-type {\n",
       "        vertical-align: middle;\n",
       "    }\n",
       "\n",
       "    .dataframe tbody tr th {\n",
       "        vertical-align: top;\n",
       "    }\n",
       "\n",
       "    .dataframe thead th {\n",
       "        text-align: right;\n",
       "    }\n",
       "</style>\n",
       "<table border=\"1\" class=\"dataframe\">\n",
       "  <thead>\n",
       "    <tr style=\"text-align: right;\">\n",
       "      <th></th>\n",
       "      <th>Order ID</th>\n",
       "      <th>Order Date</th>\n",
       "      <th>Ship Date</th>\n",
       "      <th>Ship Mode</th>\n",
       "      <th>Customer ID</th>\n",
       "      <th>Customer Name</th>\n",
       "      <th>Segment</th>\n",
       "      <th>Country</th>\n",
       "      <th>City</th>\n",
       "      <th>State</th>\n",
       "      <th>...</th>\n",
       "      <th>Category</th>\n",
       "      <th>Sub-Category</th>\n",
       "      <th>Product Name</th>\n",
       "      <th>Sales</th>\n",
       "      <th>Quantity</th>\n",
       "      <th>Discount</th>\n",
       "      <th>Profit</th>\n",
       "      <th>revenue</th>\n",
       "      <th>revenue_discount</th>\n",
       "      <th>month</th>\n",
       "    </tr>\n",
       "  </thead>\n",
       "  <tbody>\n",
       "    <tr>\n",
       "      <th>9989</th>\n",
       "      <td>CA-2022-156720</td>\n",
       "      <td>2022-12-30</td>\n",
       "      <td>2023-01-03</td>\n",
       "      <td>Standard Class</td>\n",
       "      <td>JM-15580</td>\n",
       "      <td>Jill Matthias</td>\n",
       "      <td>Consumer</td>\n",
       "      <td>United States</td>\n",
       "      <td>Loveland</td>\n",
       "      <td>Colorado</td>\n",
       "      <td>...</td>\n",
       "      <td>Office Supplies</td>\n",
       "      <td>Fasteners</td>\n",
       "      <td>Bagged Rubber Bands</td>\n",
       "      <td>3.024</td>\n",
       "      <td>3</td>\n",
       "      <td>0.2</td>\n",
       "      <td>-0.6048</td>\n",
       "      <td>9.072</td>\n",
       "      <td>1.8144</td>\n",
       "      <td>12</td>\n",
       "    </tr>\n",
       "    <tr>\n",
       "      <th>9990</th>\n",
       "      <td>CA-2022-143259</td>\n",
       "      <td>2022-12-30</td>\n",
       "      <td>2023-01-03</td>\n",
       "      <td>Standard Class</td>\n",
       "      <td>PO-18865</td>\n",
       "      <td>Patrick O'Donnell</td>\n",
       "      <td>Consumer</td>\n",
       "      <td>United States</td>\n",
       "      <td>New York City</td>\n",
       "      <td>New York</td>\n",
       "      <td>...</td>\n",
       "      <td>Office Supplies</td>\n",
       "      <td>Binders</td>\n",
       "      <td>Wilson Jones Legal Size Ring Binders</td>\n",
       "      <td>52.776</td>\n",
       "      <td>3</td>\n",
       "      <td>0.2</td>\n",
       "      <td>19.7910</td>\n",
       "      <td>158.328</td>\n",
       "      <td>31.6656</td>\n",
       "      <td>12</td>\n",
       "    </tr>\n",
       "    <tr>\n",
       "      <th>9991</th>\n",
       "      <td>CA-2022-143259</td>\n",
       "      <td>2022-12-30</td>\n",
       "      <td>2023-01-03</td>\n",
       "      <td>Standard Class</td>\n",
       "      <td>PO-18865</td>\n",
       "      <td>Patrick O'Donnell</td>\n",
       "      <td>Consumer</td>\n",
       "      <td>United States</td>\n",
       "      <td>New York City</td>\n",
       "      <td>New York</td>\n",
       "      <td>...</td>\n",
       "      <td>Technology</td>\n",
       "      <td>Phones</td>\n",
       "      <td>Gear Head AU3700S Headset</td>\n",
       "      <td>90.930</td>\n",
       "      <td>7</td>\n",
       "      <td>0.0</td>\n",
       "      <td>2.7279</td>\n",
       "      <td>636.510</td>\n",
       "      <td>0.0000</td>\n",
       "      <td>12</td>\n",
       "    </tr>\n",
       "    <tr>\n",
       "      <th>9992</th>\n",
       "      <td>CA-2022-115427</td>\n",
       "      <td>2022-12-30</td>\n",
       "      <td>2023-01-03</td>\n",
       "      <td>Standard Class</td>\n",
       "      <td>EB-13975</td>\n",
       "      <td>Erica Bern</td>\n",
       "      <td>Corporate</td>\n",
       "      <td>United States</td>\n",
       "      <td>Fairfield</td>\n",
       "      <td>California</td>\n",
       "      <td>...</td>\n",
       "      <td>Office Supplies</td>\n",
       "      <td>Binders</td>\n",
       "      <td>Cardinal Slant-D Ring Binder, Heavy Gauge Vinyl</td>\n",
       "      <td>13.904</td>\n",
       "      <td>2</td>\n",
       "      <td>0.2</td>\n",
       "      <td>4.5188</td>\n",
       "      <td>27.808</td>\n",
       "      <td>5.5616</td>\n",
       "      <td>12</td>\n",
       "    </tr>\n",
       "    <tr>\n",
       "      <th>9993</th>\n",
       "      <td>CA-2022-143259</td>\n",
       "      <td>2022-12-30</td>\n",
       "      <td>2023-01-03</td>\n",
       "      <td>Standard Class</td>\n",
       "      <td>PO-18865</td>\n",
       "      <td>Patrick O'Donnell</td>\n",
       "      <td>Consumer</td>\n",
       "      <td>United States</td>\n",
       "      <td>New York City</td>\n",
       "      <td>New York</td>\n",
       "      <td>...</td>\n",
       "      <td>Furniture</td>\n",
       "      <td>Bookcases</td>\n",
       "      <td>Bush Westfield Collection Bookcases, Fully Ass...</td>\n",
       "      <td>323.136</td>\n",
       "      <td>4</td>\n",
       "      <td>0.2</td>\n",
       "      <td>12.1176</td>\n",
       "      <td>1292.544</td>\n",
       "      <td>258.5088</td>\n",
       "      <td>12</td>\n",
       "    </tr>\n",
       "  </tbody>\n",
       "</table>\n",
       "<p>5 rows × 23 columns</p>\n",
       "</div>"
      ],
      "text/plain": [
       "            Order ID Order Date   Ship Date       Ship Mode Customer ID  \\\n",
       "9989  CA-2022-156720 2022-12-30  2023-01-03  Standard Class    JM-15580   \n",
       "9990  CA-2022-143259 2022-12-30  2023-01-03  Standard Class    PO-18865   \n",
       "9991  CA-2022-143259 2022-12-30  2023-01-03  Standard Class    PO-18865   \n",
       "9992  CA-2022-115427 2022-12-30  2023-01-03  Standard Class    EB-13975   \n",
       "9993  CA-2022-143259 2022-12-30  2023-01-03  Standard Class    PO-18865   \n",
       "\n",
       "          Customer Name    Segment        Country           City       State  \\\n",
       "9989      Jill Matthias   Consumer  United States       Loveland    Colorado   \n",
       "9990  Patrick O'Donnell   Consumer  United States  New York City    New York   \n",
       "9991  Patrick O'Donnell   Consumer  United States  New York City    New York   \n",
       "9992         Erica Bern  Corporate  United States      Fairfield  California   \n",
       "9993  Patrick O'Donnell   Consumer  United States  New York City    New York   \n",
       "\n",
       "      ...         Category Sub-Category  \\\n",
       "9989  ...  Office Supplies    Fasteners   \n",
       "9990  ...  Office Supplies      Binders   \n",
       "9991  ...       Technology       Phones   \n",
       "9992  ...  Office Supplies      Binders   \n",
       "9993  ...        Furniture    Bookcases   \n",
       "\n",
       "                                           Product Name    Sales Quantity  \\\n",
       "9989                                Bagged Rubber Bands    3.024        3   \n",
       "9990               Wilson Jones Legal Size Ring Binders   52.776        3   \n",
       "9991                          Gear Head AU3700S Headset   90.930        7   \n",
       "9992    Cardinal Slant-D Ring Binder, Heavy Gauge Vinyl   13.904        2   \n",
       "9993  Bush Westfield Collection Bookcases, Fully Ass...  323.136        4   \n",
       "\n",
       "     Discount   Profit   revenue  revenue_discount  month  \n",
       "9989      0.2  -0.6048     9.072            1.8144     12  \n",
       "9990      0.2  19.7910   158.328           31.6656     12  \n",
       "9991      0.0   2.7279   636.510            0.0000     12  \n",
       "9992      0.2   4.5188    27.808            5.5616     12  \n",
       "9993      0.2  12.1176  1292.544          258.5088     12  \n",
       "\n",
       "[5 rows x 23 columns]"
      ]
     },
     "execution_count": 33,
     "metadata": {},
     "output_type": "execute_result"
    }
   ],
   "source": [
    "df.tail()"
   ]
  },
  {
   "cell_type": "code",
   "execution_count": 35,
   "metadata": {},
   "outputs": [],
   "source": [
    "df['year'] = df['Order Date'].dt.year"
   ]
  },
  {
   "cell_type": "code",
   "execution_count": 63,
   "metadata": {},
   "outputs": [
    {
     "data": {
      "text/plain": [
       "1473"
      ]
     },
     "execution_count": 63,
     "metadata": {},
     "output_type": "execute_result"
    }
   ],
   "source": [
    "df.groupby(['month'])['Order ID'].count().max()"
   ]
  },
  {
   "cell_type": "code",
   "execution_count": 71,
   "metadata": {},
   "outputs": [
    {
     "data": {
      "text/plain": [
       "array([   0,  100,  200,  300,  400,  500,  600,  700,  800,  900, 1000,\n",
       "       1100, 1200, 1300, 1400])"
      ]
     },
     "execution_count": 71,
     "metadata": {},
     "output_type": "execute_result"
    }
   ],
   "source": [
    "np.arange(0,1473,100)"
   ]
  },
  {
   "cell_type": "code",
   "execution_count": 82,
   "metadata": {},
   "outputs": [
    {
     "data": {
      "image/png": "[encoded data removed]",
      "text/plain": [
       "<Figure size 432x288 with 1 Axes>"
      ]
     },
     "metadata": {
      "needs_background": "light"
     },
     "output_type": "display_data"
    }
   ],
   "source": [
    "plt.hist(x = ss.poisson.rvs(size = 2000,mu = 832.84),density=True);"
   ]
  },
  {
   "cell_type": "code",
   "execution_count": 43,
   "metadata": {},
   "outputs": [
    {
     "data": {
      "text/plain": [
       "832.8333333333334"
      ]
     },
     "execution_count": 43,
     "metadata": {},
     "output_type": "execute_result"
    }
   ],
   "source": [
    "# the average of order per month \n",
    "np.mean(df.groupby(['month'])['Order ID'].count())"
   ]
  },
  {
   "attachments": {},
   "cell_type": "markdown",
   "metadata": {},
   "source": [
    "# the probaility to get 1000 order per month or more ? "
   ]
  },
  {
   "cell_type": "code",
   "execution_count": 117,
   "metadata": {},
   "outputs": [
    {
     "data": {
      "text/plain": [
       "0.7271323426707057"
      ]
     },
     "execution_count": 117,
     "metadata": {},
     "output_type": "execute_result"
    }
   ],
   "source": [
    "#p (x = 800) 800 order per month\n",
    "ss.poisson.pmf(k= 800, mu = 833 )*100"
   ]
  },
  {
   "cell_type": "code",
   "execution_count": 116,
   "metadata": {},
   "outputs": [
    {
     "data": {
      "text/plain": [
       "13.089284731668938"
      ]
     },
     "execution_count": 116,
     "metadata": {},
     "output_type": "execute_result"
    }
   ],
   "source": [
    "# p (x<8oo) less than 800  order per month\n",
    "ss.poisson.cdf(k = 800, mu = 832.84 )*100"
   ]
  },
  {
   "cell_type": "code",
   "execution_count": 118,
   "metadata": {},
   "outputs": [
    {
     "data": {
      "text/plain": [
       "86.91071526833106"
      ]
     },
     "execution_count": 118,
     "metadata": {},
     "output_type": "execute_result"
    }
   ],
   "source": [
    "#p(x>800) greater than 800 order per month\n",
    "(1-ss.poisson.cdf(k = 800, mu = 832.84 ))*100"
   ]
  },
  {
   "cell_type": "markdown",
   "metadata": {},
   "source": [
    "diffrent time shipment"
   ]
  },
  {
   "cell_type": "code",
   "execution_count": 92,
   "metadata": {},
   "outputs": [],
   "source": [
    "df['Ship Date'] = pd.to_datetime(df['Ship Date'])"
   ]
  },
  {
   "cell_type": "code",
   "execution_count": 95,
   "metadata": {},
   "outputs": [
    {
     "data": {
      "text/plain": [
       "Timedelta('3 days 22:58:28.505103061')"
      ]
     },
     "execution_count": 95,
     "metadata": {},
     "output_type": "execute_result"
    }
   ],
   "source": [
    "np.mean(df['Ship Date']- df['Order Date'])"
   ]
  },
  {
   "cell_type": "code",
   "execution_count": 101,
   "metadata": {},
   "outputs": [
    {
     "data": {
      "text/plain": [
       "Timedelta('7 days 00:00:00')"
      ]
     },
     "execution_count": 101,
     "metadata": {},
     "output_type": "execute_result"
    }
   ],
   "source": [
    "np.max(df['Ship Date']- df['Order Date'])"
   ]
  },
  {
   "cell_type": "code",
   "execution_count": 125,
   "metadata": {},
   "outputs": [
    {
     "data": {
      "text/plain": [
       "0.0205212496559747"
      ]
     },
     "execution_count": 125,
     "metadata": {},
     "output_type": "execute_result"
    }
   ],
   "source": [
    "# the probability of ship order take 10 days\n",
    "ss.expon.pdf( x = 10,scale= 4)"
   ]
  },
  {
   "cell_type": "code",
   "execution_count": 126,
   "metadata": {},
   "outputs": [
    {
     "data": {
      "text/plain": [
       "0.9179150013761012"
      ]
     },
     "execution_count": 126,
     "metadata": {},
     "output_type": "execute_result"
    }
   ],
   "source": [
    "#more than 10 dayes \n",
    "ss.expon.cdf( x = 10,scale= 4)"
   ]
  },
  {
   "cell_type": "code",
   "execution_count": 127,
   "metadata": {},
   "outputs": [
    {
     "data": {
      "text/plain": [
       "0.08208499862389884"
      ]
     },
     "execution_count": 127,
     "metadata": {},
     "output_type": "execute_result"
    }
   ],
   "source": [
    "#more than 10 dayes \n",
    "1-ss.expon.cdf( x = 10,scale= 4)"
   ]
  },
  {
   "cell_type": "code",
   "execution_count": 128,
   "metadata": {},
   "outputs": [
    {
     "data": {
      "image/png": "[encoded data removed]",
      "text/plain": [
       "<Figure size 432x288 with 1 Axes>"
      ]
     },
     "metadata": {
      "needs_background": "light"
     },
     "output_type": "display_data"
    }
   ],
   "source": [
    "plt.hist(x= ss.expon.rvs( size = 1000 ,  scale = 4), density=True );"
   ]
  },
  {
   "cell_type": "code",
   "execution_count": null,
   "metadata": {},
   "outputs": [],
   "source": []
  }
 ],
 "metadata": {
  "kernelspec": {
   "display_name": "Python 3",
   "language": "python",
   "name": "python3"
  },
  "language_info": {
   "codemirror_mode": {
    "name": "ipython",
    "version": 3
   },
   "file_extension": ".py",
   "mimetype": "text/x-python",
   "name": "python",
   "nbconvert_exporter": "python",
   "pygments_lexer": "ipython3",
   "version": "3.8.7"
  },
  "orig_nbformat": 4,
  "vscode": {
   "interpreter": {
    "hash": "fc7aef2b0aa35ff195438187b9d661d089a2d74be79df9ebba2245287dbe3fa6"
   }
  }
 },
 "nbformat": 4,
 "nbformat_minor": 2
}
